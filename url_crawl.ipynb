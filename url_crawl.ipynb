{
 "cells": [
  {
   "cell_type": "code",
   "execution_count": 1,
   "metadata": {},
   "outputs": [],
   "source": [
    "import requests\n",
    "import numpy as np\n",
    "import pandas as pd\n",
    "from bs4 import BeautifulSoup\n",
    "import html\n",
    "import re\n",
    "import random\n",
    "import json"
   ]
  },
  {
   "cell_type": "code",
   "execution_count": 2,
   "metadata": {},
   "outputs": [],
   "source": [
    "def create_dict(tag, attrs, text, re_pattern):\n",
    "    return {\n",
    "        \"tag\": tag,\n",
    "        \"attrs\": attrs,\n",
    "        \"text\": text,\n",
    "        \"re_pattern\": re_pattern,\n",
    "    }\n",
    "\n",
    "\n",
    "book_link_from_html = create_dict(\n",
    "    tag=\"h4\",\n",
    "    attrs={\"class\": \"product-name-title\"},\n",
    "    text=\"\",\n",
    "    re_pattern=\"\",\n",
    ")\n",
    "\n",
    "df = pd.DataFrame(columns=[\"id\", \"title\", \"url\"])"
   ]
  },
  {
   "cell_type": "code",
   "execution_count": 3,
   "metadata": {},
   "outputs": [],
   "source": [
    "\n",
    "def req_to_address(method, url, headers, params):\n",
    "    try:\n",
    "        response = requests.request(\n",
    "            method=method,\n",
    "            url=url,\n",
    "            headers=headers,\n",
    "            params=params,\n",
    "        )\n",
    "        if response.status_code == 200:\n",
    "            return response.content\n",
    "        else:\n",
    "            print(\"Failed to fetch the website with url:\", url)\n",
    "            return None\n",
    "    except:\n",
    "        print(\"Error in get request with url:\", url)"
   ]
  },
  {
   "cell_type": "code",
   "execution_count": 4,
   "metadata": {},
   "outputs": [
    {
     "name": "stdout",
     "output_type": "stream",
     "text": [
      "break\n"
     ]
    }
   ],
   "source": [
    "user_agents = [\n",
    "    \"Mozilla/5.0 (Windows NT 10.0; Win64; x64) AppleWebKit/537.36 (KHTML, like Gecko) Chrome/109.0.0.0 Safari/537.36\"\n",
    "    \"Mozilla/5.0 (Macintosh; Intel Mac OS X 10_15_7) AppleWebKit/537.36 (KHTML, like Gecko) Chrome/109.0.0.0 Safari/537.36\"\n",
    "    \"Mozilla/5.0 (Windows NT 10.0; Win64; x64) AppleWebKit/537.36 (KHTML, like Gecko) Chrome/108.0.0.0 Safari/537.36\"\n",
    "    \"Mozilla/5.0 (Macintosh; Intel Mac OS X 10_15_7) AppleWebKit/537.36 (KHTML, like Gecko) Chrome/108.0.0.0 Safari/537.36\"\n",
    "    \"Mozilla/5.0 (X11; Linux x86_64) AppleWebKit/537.36 (KHTML, like Gecko) Chrome/108.0.0.0 Safari/537.36\"\n",
    "    \"Mozilla/5.0 (Macintosh; Intel Mac OS X 10_15_7) AppleWebKit/605.1.15 (KHTML, like Gecko) Version/16.1 Safari/605.1.15\"\n",
    "    \"Mozilla/5.0 (Macintosh; Intel Mac OS X 13_1) AppleWebKit/605.1.15 (KHTML, like Gecko) Version/16.1 Safari/605.1.15\"\n",
    "    \"Mozilla/5.0 (Windows NT 10.0; Win64; x64) AppleWebKit/537.36 (KHTML, like Gecko) Chrome/117.0.0.0 Safari/537.36\"\n",
    "]\n",
    "headers = {\n",
    "    \"User-Agent\": random.choice(user_agents),\n",
    "    \"Accept-Language\": \"en-US,en;q=0.9,fa;q=0.8\",\n",
    "}\n",
    "\n",
    "main_url = \"https://www.iranketab.ir\"\n",
    "# category1_url = \"tag/103-fiction\"\n",
    "book_url = \"/book?\"\n",
    "# page = \"?Page=\"\n",
    "maximum_number_books = 1000\n",
    "page_number = 1\n",
    "\n",
    "while True:\n",
    "    query_params = {\n",
    "        \"pagenumber\": str(page_number),\n",
    "        \"pagesize\": str(maximum_number_books),\n",
    "        \"sortOrder\": \"date_asc\",\n",
    "        # \"tagid\": \"103\",\n",
    "    }\n",
    "    html_content = req_to_address(\n",
    "        method=\"GET\",\n",
    "        url=main_url + book_url,\n",
    "        headers=headers,\n",
    "        params=query_params,\n",
    "    )\n",
    "    soup = BeautifulSoup(html_content, \"html.parser\")\n",
    "    elements = soup.find_all(\n",
    "        book_link_from_html[\"tag\"], attrs=book_link_from_html[\"attrs\"]\n",
    "    )\n",
    "\n",
    "    cnt = 0\n",
    "    for element in elements:\n",
    "        a_element = element.find(\"a\")\n",
    "        if a_element:\n",
    "            link = a_element[\"href\"]\n",
    "            start = link.find(\"/book/\") + len(\"/book/\")\n",
    "            end = link.find(\"-\")\n",
    "            df.loc[len(df)] = {\n",
    "                \"id\": link[start:end],\n",
    "                \"title\": a_element.text.strip(),\n",
    "                \"url\": main_url + link,\n",
    "            }\n",
    "            cnt += 1\n",
    "\n",
    "    if cnt != maximum_number_books:\n",
    "        print(\"break\")\n",
    "        break\n",
    "\n",
    "    page_number += 1\n",
    "    headers[\"User-Agent\"] = random.choice(user_agents)"
   ]
  },
  {
   "cell_type": "code",
   "execution_count": 23,
   "metadata": {},
   "outputs": [],
   "source": [
    "df.to_csv(\"URL_address_books.csv\", index=False, encoding=\"utf-8-sig\")"
   ]
  },
  {
   "cell_type": "code",
   "execution_count": 39,
   "metadata": {},
   "outputs": [
    {
     "data": {
      "text/html": [
       "<div>\n",
       "<style scoped>\n",
       "    .dataframe tbody tr th:only-of-type {\n",
       "        vertical-align: middle;\n",
       "    }\n",
       "\n",
       "    .dataframe tbody tr th {\n",
       "        vertical-align: top;\n",
       "    }\n",
       "\n",
       "    .dataframe thead th {\n",
       "        text-align: right;\n",
       "    }\n",
       "</style>\n",
       "<table border=\"1\" class=\"dataframe\">\n",
       "  <thead>\n",
       "    <tr style=\"text-align: right;\">\n",
       "      <th></th>\n",
       "      <th>id</th>\n",
       "      <th>title</th>\n",
       "      <th>url</th>\n",
       "    </tr>\n",
       "  </thead>\n",
       "  <tbody>\n",
       "    <tr>\n",
       "      <th>count</th>\n",
       "      <td>99768</td>\n",
       "      <td>99768</td>\n",
       "      <td>99768</td>\n",
       "    </tr>\n",
       "    <tr>\n",
       "      <th>unique</th>\n",
       "      <td>99768</td>\n",
       "      <td>92991</td>\n",
       "      <td>99768</td>\n",
       "    </tr>\n",
       "    <tr>\n",
       "      <th>top</th>\n",
       "      <td>43</td>\n",
       "      <td>دفتر یادداشت</td>\n",
       "      <td>https://www.iranketab.ir/book/43-a-fraction-of...</td>\n",
       "    </tr>\n",
       "    <tr>\n",
       "      <th>freq</th>\n",
       "      <td>1</td>\n",
       "      <td>542</td>\n",
       "      <td>1</td>\n",
       "    </tr>\n",
       "  </tbody>\n",
       "</table>\n",
       "</div>"
      ],
      "text/plain": [
       "           id         title                                                url\n",
       "count   99768         99768                                              99768\n",
       "unique  99768         92991                                              99768\n",
       "top        43  دفتر یادداشت  https://www.iranketab.ir/book/43-a-fraction-of...\n",
       "freq        1           542                                                  1"
      ]
     },
     "execution_count": 39,
     "metadata": {},
     "output_type": "execute_result"
    }
   ],
   "source": [
    "df.describe()"
   ]
  }
 ],
 "metadata": {
  "kernelspec": {
   "display_name": "venv",
   "language": "python",
   "name": "python3"
  },
  "language_info": {
   "codemirror_mode": {
    "name": "ipython",
    "version": 3
   },
   "file_extension": ".py",
   "mimetype": "text/x-python",
   "name": "python",
   "nbconvert_exporter": "python",
   "pygments_lexer": "ipython3",
   "version": "3.9.0"
  },
  "orig_nbformat": 4
 },
 "nbformat": 4,
 "nbformat_minor": 2
}
