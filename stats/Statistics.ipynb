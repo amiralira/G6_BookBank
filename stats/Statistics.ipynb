{
 "cells": [
  {
   "cell_type": "code",
   "execution_count": 1,
   "metadata": {},
   "outputs": [],
   "source": [
    "import pandas as pd\n",
    "from scipy import stats\n",
    "import numpy as np\n"
   ]
  },
  {
   "cell_type": "code",
   "execution_count": 2,
   "metadata": {},
   "outputs": [],
   "source": [
    "df_books = pd.read_csv('price.csv')\n",
    "df_translated = pd.read_csv('translator.csv')"
   ]
  },
  {
   "cell_type": "code",
   "execution_count": 3,
   "metadata": {},
   "outputs": [],
   "source": [
    "#books that are translated\n",
    "merged_df = pd.merge(df_books, df_translated, on ='BookID')\n"
   ]
  },
  {
   "cell_type": "code",
   "execution_count": 4,
   "metadata": {},
   "outputs": [],
   "source": [
    "#books that are not translated\n",
    "filtered_df = df_books[~df_books['BookID'].isin(df_translated['BookID'])]\n"
   ]
  },
  {
   "cell_type": "code",
   "execution_count": 6,
   "metadata": {},
   "outputs": [
    {
     "data": {
      "text/plain": [
       "TtestResult(statistic=9.567199766156156, pvalue=1.1192102095219392e-21, df=113979.0)"
      ]
     },
     "execution_count": 6,
     "metadata": {},
     "output_type": "execute_result"
    }
   ],
   "source": [
    "#ttest for hypothesis 1 :\n",
    "translated_books = merged_df['Price']\n",
    "non_translated_books = filtered_df['Price']\n",
    "t1 = stats.ttest_ind(translated_books, non_translated_books)\n",
    "t1"
   ]
  },
  {
   "cell_type": "code",
   "execution_count": 7,
   "metadata": {},
   "outputs": [],
   "source": [
    "df = pd.read_csv('books.csv')"
   ]
  },
  {
   "cell_type": "code",
   "execution_count": 12,
   "metadata": {},
   "outputs": [],
   "source": [
    "df['CoverType'] = df['CoverType'].apply(str)\n",
    "df['Title'] = df['Title'].apply(str)\n",
    "df_hard = df[df['CoverType'].str.contains('جلد سخت')]\n",
    "df_soft = df[df['CoverType'].str.contains('شومیز')]\n",
    "df_h = df_hard.rename(columns = {'ID' : 'BookID'})\n",
    "df_s = df_soft.rename(columns = {'ID' : 'BookID'})\n"
   ]
  },
  {
   "cell_type": "code",
   "execution_count": 13,
   "metadata": {},
   "outputs": [],
   "source": [
    "merged_h = pd.merge(df_books, df_h, on ='BookID')\n",
    "merged_s = pd.merge(df_books, df_s, on ='BookID')\n",
    "merged_hard = merged_h[merged_h['Title'].isin(merged_s['Title'])]\n",
    "merged_soft = merged_s[merged_s['Title'].isin(merged_h['Title'])]\n"
   ]
  },
  {
   "cell_type": "code",
   "execution_count": 14,
   "metadata": {},
   "outputs": [
    {
     "data": {
      "text/plain": [
       "TtestResult(statistic=10.143706733044677, pvalue=1.9995115908014383e-23, df=1489.0)"
      ]
     },
     "execution_count": 14,
     "metadata": {},
     "output_type": "execute_result"
    }
   ],
   "source": [
    "#ttest for hypothesis 2 :\n",
    "hard_price = merged_hard['Price']\n",
    "soft_price = merged_soft['Price']\n",
    "t2 = stats.ttest_ind(hard_price, soft_price)\n",
    "t2"
   ]
  }
 ],
 "metadata": {
  "kernelspec": {
   "display_name": "Python 3",
   "language": "python",
   "name": "python3"
  },
  "language_info": {
   "codemirror_mode": {
    "name": "ipython",
    "version": 3
   },
   "file_extension": ".py",
   "mimetype": "text/x-python",
   "name": "python",
   "nbconvert_exporter": "python",
   "pygments_lexer": "ipython3",
   "version": "3.11.0"
  },
  "orig_nbformat": 4,
  "vscode": {
   "interpreter": {
    "hash": "aee8b7b246df8f9039afb4144a1f6fd8d2ca17a180786b69acc140d282b71a49"
   }
  }
 },
 "nbformat": 4,
 "nbformat_minor": 2
}
