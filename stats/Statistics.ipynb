{
 "cells": [
  {
   "cell_type": "code",
   "execution_count": 45,
   "metadata": {},
   "outputs": [],
   "source": [
    "import pandas as pd\n",
    "from scipy import stats\n",
    "import numpy as np\n"
   ]
  },
  {
   "cell_type": "code",
   "execution_count": 2,
   "metadata": {},
   "outputs": [],
   "source": [
    "df_books = pd.read_csv('price.csv')\n",
    "df_translated = pd.read_csv('translator.csv')"
   ]
  },
  {
   "cell_type": "code",
   "execution_count": 3,
   "metadata": {},
   "outputs": [
    {
     "data": {
      "text/html": [
       "<div>\n",
       "<style scoped>\n",
       "    .dataframe tbody tr th:only-of-type {\n",
       "        vertical-align: middle;\n",
       "    }\n",
       "\n",
       "    .dataframe tbody tr th {\n",
       "        vertical-align: top;\n",
       "    }\n",
       "\n",
       "    .dataframe thead th {\n",
       "        text-align: right;\n",
       "    }\n",
       "</style>\n",
       "<table border=\"1\" class=\"dataframe\">\n",
       "  <thead>\n",
       "    <tr style=\"text-align: right;\">\n",
       "      <th></th>\n",
       "      <th>Unnamed: 0_x</th>\n",
       "      <th>BookID</th>\n",
       "      <th>Price</th>\n",
       "      <th>DiscountPercentage</th>\n",
       "      <th>Exists</th>\n",
       "      <th>EarliestDeliveryDate</th>\n",
       "      <th>Unnamed: 0_y</th>\n",
       "      <th>PersonID</th>\n",
       "    </tr>\n",
       "  </thead>\n",
       "  <tbody>\n",
       "    <tr>\n",
       "      <th>0</th>\n",
       "      <td>4</td>\n",
       "      <td>8553</td>\n",
       "      <td>9000</td>\n",
       "      <td>-1</td>\n",
       "      <td>False</td>\n",
       "      <td>---</td>\n",
       "      <td>0</td>\n",
       "      <td>5421</td>\n",
       "    </tr>\n",
       "    <tr>\n",
       "      <th>1</th>\n",
       "      <td>6</td>\n",
       "      <td>22362</td>\n",
       "      <td>19800</td>\n",
       "      <td>-1</td>\n",
       "      <td>False</td>\n",
       "      <td>---</td>\n",
       "      <td>1</td>\n",
       "      <td>3353</td>\n",
       "    </tr>\n",
       "    <tr>\n",
       "      <th>2</th>\n",
       "      <td>11</td>\n",
       "      <td>3947</td>\n",
       "      <td>15000</td>\n",
       "      <td>-1</td>\n",
       "      <td>False</td>\n",
       "      <td>---</td>\n",
       "      <td>2</td>\n",
       "      <td>2613</td>\n",
       "    </tr>\n",
       "    <tr>\n",
       "      <th>3</th>\n",
       "      <td>12</td>\n",
       "      <td>16886</td>\n",
       "      <td>22000</td>\n",
       "      <td>-1</td>\n",
       "      <td>False</td>\n",
       "      <td>---</td>\n",
       "      <td>3</td>\n",
       "      <td>4888</td>\n",
       "    </tr>\n",
       "    <tr>\n",
       "      <th>4</th>\n",
       "      <td>19</td>\n",
       "      <td>32296</td>\n",
       "      <td>220000</td>\n",
       "      <td>25</td>\n",
       "      <td>True</td>\n",
       "      <td>9 مهر</td>\n",
       "      <td>4</td>\n",
       "      <td>3110</td>\n",
       "    </tr>\n",
       "    <tr>\n",
       "      <th>...</th>\n",
       "      <td>...</td>\n",
       "      <td>...</td>\n",
       "      <td>...</td>\n",
       "      <td>...</td>\n",
       "      <td>...</td>\n",
       "      <td>...</td>\n",
       "      <td>...</td>\n",
       "      <td>...</td>\n",
       "    </tr>\n",
       "    <tr>\n",
       "      <th>61306</th>\n",
       "      <td>113808</td>\n",
       "      <td>6962</td>\n",
       "      <td>150000</td>\n",
       "      <td>15</td>\n",
       "      <td>True</td>\n",
       "      <td>10 مهر</td>\n",
       "      <td>61306</td>\n",
       "      <td>4741</td>\n",
       "    </tr>\n",
       "    <tr>\n",
       "      <th>61307</th>\n",
       "      <td>113809</td>\n",
       "      <td>16096</td>\n",
       "      <td>150000</td>\n",
       "      <td>15</td>\n",
       "      <td>True</td>\n",
       "      <td>9 مهر</td>\n",
       "      <td>61307</td>\n",
       "      <td>2564</td>\n",
       "    </tr>\n",
       "    <tr>\n",
       "      <th>61308</th>\n",
       "      <td>113810</td>\n",
       "      <td>6964</td>\n",
       "      <td>200000</td>\n",
       "      <td>20</td>\n",
       "      <td>True</td>\n",
       "      <td>10 مهر</td>\n",
       "      <td>61308</td>\n",
       "      <td>4782</td>\n",
       "    </tr>\n",
       "    <tr>\n",
       "      <th>61309</th>\n",
       "      <td>113811</td>\n",
       "      <td>6968</td>\n",
       "      <td>345000</td>\n",
       "      <td>20</td>\n",
       "      <td>True</td>\n",
       "      <td>9 مهر</td>\n",
       "      <td>61309</td>\n",
       "      <td>4931</td>\n",
       "    </tr>\n",
       "    <tr>\n",
       "      <th>61310</th>\n",
       "      <td>113812</td>\n",
       "      <td>16095</td>\n",
       "      <td>350000</td>\n",
       "      <td>-1</td>\n",
       "      <td>False</td>\n",
       "      <td>---</td>\n",
       "      <td>61310</td>\n",
       "      <td>4928</td>\n",
       "    </tr>\n",
       "  </tbody>\n",
       "</table>\n",
       "<p>61311 rows × 8 columns</p>\n",
       "</div>"
      ],
      "text/plain": [
       "       Unnamed: 0_x  BookID   Price  DiscountPercentage  Exists  \\\n",
       "0                 4    8553    9000                  -1   False   \n",
       "1                 6   22362   19800                  -1   False   \n",
       "2                11    3947   15000                  -1   False   \n",
       "3                12   16886   22000                  -1   False   \n",
       "4                19   32296  220000                  25    True   \n",
       "...             ...     ...     ...                 ...     ...   \n",
       "61306        113808    6962  150000                  15    True   \n",
       "61307        113809   16096  150000                  15    True   \n",
       "61308        113810    6964  200000                  20    True   \n",
       "61309        113811    6968  345000                  20    True   \n",
       "61310        113812   16095  350000                  -1   False   \n",
       "\n",
       "      EarliestDeliveryDate  Unnamed: 0_y PersonID  \n",
       "0                      ---             0     5421  \n",
       "1                      ---             1     3353  \n",
       "2                      ---             2     2613  \n",
       "3                      ---             3     4888  \n",
       "4                    9 مهر             4     3110  \n",
       "...                    ...           ...      ...  \n",
       "61306               10 مهر         61306     4741  \n",
       "61307                9 مهر         61307     2564  \n",
       "61308               10 مهر         61308     4782  \n",
       "61309                9 مهر         61309     4931  \n",
       "61310                  ---         61310     4928  \n",
       "\n",
       "[61311 rows x 8 columns]"
      ]
     },
     "execution_count": 3,
     "metadata": {},
     "output_type": "execute_result"
    }
   ],
   "source": [
    "#books that are translated\n",
    "merged_df = pd.merge(df_books, df_translated, on ='BookID')\n"
   ]
  },
  {
   "cell_type": "code",
   "execution_count": 4,
   "metadata": {},
   "outputs": [],
   "source": [
    "#books that are not translated\n",
    "filtered_df = df_books[~df_books['BookID'].isin(df_translated['BookID'])]\n"
   ]
  },
  {
   "cell_type": "code",
   "execution_count": 32,
   "metadata": {},
   "outputs": [
    {
     "data": {
      "text/plain": [
       "TtestResult(statistic=9.567199766156156, pvalue=1.1192102095219392e-21, df=113979.0)"
      ]
     },
     "execution_count": 32,
     "metadata": {},
     "output_type": "execute_result"
    }
   ],
   "source": [
    "#ttest for hypothesis 1 :\n",
    "translated_books = merged_df['Price']\n",
    "non_translated_books = filtered_df['Price']\n",
    "t1 = stats.ttest_ind(translated_books, non_translated_books)\n"
   ]
  },
  {
   "cell_type": "code",
   "execution_count": 6,
   "metadata": {},
   "outputs": [],
   "source": [
    "df = pd.read_csv('books.csv')"
   ]
  },
  {
   "cell_type": "code",
   "execution_count": 43,
   "metadata": {},
   "outputs": [],
   "source": [
    "df['CoverType'] = df['CoverType'].apply(str)\n",
    "df['Title'] = df['Title'].apply(str)\n",
    "df_hard = df[df['CoverType'].str.contains('جلد سخت')]\n",
    "df_soft = df[df['CoverType'].str.contains('شومیز')]\n",
    "df_h = df_hard.rename(columns = {'ID' : 'BookID', 'Title' : 'hard'})\n",
    "df_s = df_soft.rename(columns = {'ID' : 'BookID', 'Title' : 'soft'})\n"
   ]
  },
  {
   "cell_type": "code",
   "execution_count": 48,
   "metadata": {},
   "outputs": [],
   "source": [
    "merged_h = pd.merge(df_books, df_h, on ='BookID')\n",
    "merged_s = pd.merge(df_books, df_s, on ='BookID')\n",
    "merged_hard = merged_h[merged_h['Title'].isin(merged_s['Title'])]\n",
    "merged_soft = merged_s[merged_s['Title'].isin(merged_h['Title'])]\n"
   ]
  },
  {
   "cell_type": "code",
   "execution_count": 55,
   "metadata": {},
   "outputs": [
    {
     "data": {
      "text/plain": [
       "TtestResult(statistic=10.143706733044677, pvalue=1.9995115908014383e-23, df=1489.0)"
      ]
     },
     "execution_count": 55,
     "metadata": {},
     "output_type": "execute_result"
    }
   ],
   "source": [
    "#ttest for hypothesis 2 :\n",
    "hard_price = merged_hard['Price']\n",
    "soft_price = merged_soft['Price']\n",
    "t2 = stats.ttest_ind(hard_price, soft_price)\n"
   ]
  },
  {
   "cell_type": "code",
   "execution_count": null,
   "metadata": {},
   "outputs": [],
   "source": []
  }
 ],
 "metadata": {
  "kernelspec": {
   "display_name": "Python 3",
   "language": "python",
   "name": "python3"
  },
  "language_info": {
   "codemirror_mode": {
    "name": "ipython",
    "version": 3
   },
   "file_extension": ".py",
   "mimetype": "text/x-python",
   "name": "python",
   "nbconvert_exporter": "python",
   "pygments_lexer": "ipython3",
   "version": "3.11.0"
  },
  "orig_nbformat": 4,
  "vscode": {
   "interpreter": {
    "hash": "aee8b7b246df8f9039afb4144a1f6fd8d2ca17a180786b69acc140d282b71a49"
   }
  }
 },
 "nbformat": 4,
 "nbformat_minor": 2
}
