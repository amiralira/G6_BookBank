{
 "cells": [
  {
   "cell_type": "code",
   "execution_count": 5,
   "metadata": {},
   "outputs": [],
   "source": [
    "import requests\n",
    "from bs4 import BeautifulSoup\n",
    "import random"
   ]
  },
  {
   "cell_type": "code",
   "execution_count": 6,
   "metadata": {},
   "outputs": [],
   "source": [
    "url = 'https://www.iranketab.ir/book/1187-homo-deus'\n",
    "\n",
    "user_agents = [\n",
    "    \"Mozilla/5.0 (Windows NT 10.0; Win64; x64) AppleWebKit/537.36 (KHTML, like Gecko) Chrome/109.0.0.0 Safari/537.36\"\n",
    "    \"Mozilla/5.0 (Macintosh; Intel Mac OS X 10_15_7) AppleWebKit/537.36 (KHTML, like Gecko) Chrome/109.0.0.0 Safari/537.36\"\n",
    "    \"Mozilla/5.0 (Windows NT 10.0; Win64; x64) AppleWebKit/537.36 (KHTML, like Gecko) Chrome/108.0.0.0 Safari/537.36\"\n",
    "    \"Mozilla/5.0 (Macintosh; Intel Mac OS X 10_15_7) AppleWebKit/537.36 (KHTML, like Gecko) Chrome/108.0.0.0 Safari/537.36\"\n",
    "    \"Mozilla/5.0 (X11; Linux x86_64) AppleWebKit/537.36 (KHTML, like Gecko) Chrome/108.0.0.0 Safari/537.36\"\n",
    "    \"Mozilla/5.0 (Macintosh; Intel Mac OS X 10_15_7) AppleWebKit/605.1.15 (KHTML, like Gecko) Version/16.1 Safari/605.1.15\"\n",
    "    \"Mozilla/5.0 (Macintosh; Intel Mac OS X 13_1) AppleWebKit/605.1.15 (KHTML, like Gecko) Version/16.1 Safari/605.1.15\"\n",
    "    \"Mozilla/5.0 (Windows NT 10.0; Win64; x64) AppleWebKit/537.36 (KHTML, like Gecko) Chrome/117.0.0.0 Safari/537.36\"\n",
    "]\n",
    "headers = {\n",
    "    \"User-Agent\": random.choice(user_agents),\n",
    "    \"Accept-Language\": \"en-US,en;q=0.9,fa;q=0.8\",\n",
    "}\n"
   ]
  },
  {
   "cell_type": "code",
   "execution_count": 7,
   "metadata": {},
   "outputs": [
    {
     "name": "stdout",
     "output_type": "stream",
     "text": [
      "status code is:  200\n"
     ]
    }
   ],
   "source": [
    "response = requests.get(url, headers=headers)    \n",
    "print(\"status code is: \", response.status_code)"
   ]
  },
  {
   "cell_type": "code",
   "execution_count": 8,
   "metadata": {},
   "outputs": [],
   "source": [
    "soup = BeautifulSoup(response.text, \"html.parser\")\n"
   ]
  },
  {
   "cell_type": "code",
   "execution_count": 9,
   "metadata": {},
   "outputs": [],
   "source": [
    "books = soup.select('.product-name strong')\n",
    "length = len(books)"
   ]
  },
  {
   "cell_type": "code",
   "execution_count": 28,
   "metadata": {},
   "outputs": [
    {
     "name": "stdout",
     "output_type": "stream",
     "text": [
      "کتاب انسان خداگونه\n",
      " Homo Deus\n",
      "null\n",
      " ۱۴۸,۵۰۰ \n",
      " ۱۴۸,۵۰۰ \n",
      "فرهنگ نشر نو\n",
      "یووال نوح هراری\n",
      "1187\n",
      "\n",
      "978-600-490-270-0                                                \n",
      "\n",
      "رقعی                                                \n",
      "\n",
      "542                                                \n",
      "\n",
      "1397                                                \n",
      "\n",
      "2015                                                \n",
      "\n",
      "جلد سخت                                                \n",
      "\n",
      "4                                                \n",
      " ---\n",
      "\n",
      "                                کتاب انسان خداگونه، اثری نوشته ی یووال نوح هراری است که اولین بار در سال 2015 به انتشار رسید.\n",
      "انسانیت در طول قرن گذشته موفق به انجام غیرممکن ها شده و توانسته از قحطی، طاعون و جنگ جان سالم به در ببرد. شاید پذیرفتن این موضوع سخت باشد اما همان طور که هراری با نثر جذاب و آموزنده ی خود توضیح می دهد، مسائلی چون قحطی، طاعون و جنگ از نیروهایی غیرقابل کنترل به چالش هایی قابل مدیریت تبدیل شده اند. اما چه چیزی جای این مسائل را گرفته است؟ ما انسان ها به عنوان خدایان خودخوانده ی سیاره ی زمین، چه سرنوشتی را برای خود رقم خواهیم زد و به دنبال چه مأموریتی خواهیم بود؟ کتاب انسان خداگونه به پروژه ها، رویاها و کابوس هایی می پردازد که قرن بیست و یکم را شکل خواهند داد (از غلبه بر مرگ گرفته تا ساخت زندگی مصنوعی). این کتاب پرفروش و فراموش نشدنی، سوال هایی بنیادین را مطرح می کند: ما به چه سمتی خواهیم رفت؟ چگونه از این دنیای شکننده در برابر قدرت های تخریب گرانه ی خودمان محافظت خواهیم کرد؟ این، مرحله ی بعدی تکامل است. این، انسان خداگونه است.\n",
      "\n",
      "                            \n",
      "\n",
      "\n",
      "\n",
      "\n",
      "                            یووال نوح هراری، زاده ی 24 فوریه ی 1976، تاریخ نگار و استاد تاریخ دانشگاه اورشلیم است. نوشته های هراری بیشتر به موضوعاتی چون اختیار، هوشیاری و تعاریف هوشمندی اختصاص دارند. او هر روز، دو ساعت به مدیتیشن و سکوت می پردازد و معلم مدیتیشن نیز هست. او گیاه خوار است، از شبکه های اجتماعی دوری می گزیند و داشتن گوشی هوشمند را برای خود مناسب نمی داند.\n",
      "                        \n",
      "['ادبیات معاصر', 'ادبیات اروپا', 'دهه 2010 میلادی', 'فلسفی', 'تاریخی', 'علمی', 'روانشناسی', 'پرفروش ترین کتاب های نیویورک تایمز', 'تکنولوژی', 'اجتماعی', 'فهرست برترین کتاب های علمی', 'فهرست کتاب های برگزیده به انتخاب «بیل گیتس»']\n"
     ]
    }
   ],
   "source": [
    "persian_title = soup.select_one('.product-name strong').text\n",
    "english_title = soup.select_one('div div .product-name-englishname').text\n",
    "try:\n",
    "    discount = soup.select_one('.col-md-7 li:nth-child(1) div').text\n",
    "except: discount = 'null'\n",
    "price_despite_of_discount = soup.find('span', attrs={'class': 'price price-special'}).text\n",
    "\n",
    "try:\n",
    "    price_without_discount = soup.find('span', attrs={'class': 'price price-broken'}).text\n",
    "except:\n",
    "    price_without_discount = price_despite_of_discount\n",
    "\n",
    "\n",
    "'''if soup.select_one('.exists-book span') == ' موجود ':\n",
    "    is_available = True\n",
    "elif soup.select_one('.exists-book span') == ' ناموجود ':\n",
    "    is_available = False'''\n",
    "\n",
    "publisher = soup.find_all('span', attrs={'class': 'prodoct-attribute-item'})[1].text\n",
    "publisher_id = soup.select_one('.prodoct-attribute-items:nth-child(1) a .prodoct-attribute-item')\n",
    "publisher_link1 = soup.find('a', href=lambda href: href and href.startswith('/publisher'))['href']\n",
    "publisher_link = 'https://www.iranketab.ir/' + publisher_link1\n",
    "writer = soup.select_one(' .prodoct-attribute-items+ .prodoct-attribute-items a .prodoct-attribute-item').text\n",
    "writer1_link = soup.find('a', href=lambda href: href and href.startswith('/profile'))['href']\n",
    "writer_link = 'https://www.iranketab.ir' + writer1_link\n",
    "book_id = soup.select_one('tr:nth-child(1) td+ td').text\n",
    "ISBN = soup.select_one('.product-table .ltr').text\n",
    "book_size = soup.select_one('tr:nth-child(4) .rtl').text\n",
    "pages = soup.select_one('tr:nth-child(5) .rtl').text\n",
    "sol_release = soup.select_one('tr:nth-child(6) .rtl').text\n",
    "greg_release = soup.select_one('tr:nth-child(7) .rtl').text\n",
    "cover = soup.select_one('tr:nth-child(8) .rtl').text\n",
    "serie = soup.select_one('tr:nth-child(9) .rtl').text\n",
    "deliver_from = soup.select_one('.label-info').text\n",
    "discription = soup.select_one('.product-description').text\n",
    "author_discription = soup.select_one('.col-xs-9').text\n",
    "\n",
    "tags = soup.select('.product-tags-item')\n",
    "tags_list = []\n",
    "for tag_element in tags:\n",
    "    tags_list.append(tag_element.text.strip())\n",
    "    \n",
    "print(persian_title)\n",
    "print(english_title)\n",
    "print(discount)\n",
    "print(price_without_discount)\n",
    "print(price_despite_of_discount)\n",
    "print()\n",
    "print(publisher)\n",
    "print(writer)\n",
    "print(book_id)\n",
    "print(ISBN)\n",
    "print(book_size)\n",
    "print(pages)\n",
    "print(sol_release)\n",
    "print(greg_release)\n",
    "print(cover)\n",
    "print(serie)\n",
    "print(deliver_from)\n",
    "print(discription)\n",
    "print(author_discription)\n",
    "print(tags_list)"
   ]
  },
  {
   "cell_type": "code",
   "execution_count": 30,
   "metadata": {},
   "outputs": [
    {
     "data": {
      "text/plain": [
       "'https://www.iranketab.ir/profile/2206-yuval-noah-harari'"
      ]
     },
     "execution_count": 30,
     "metadata": {},
     "output_type": "execute_result"
    }
   ],
   "source": [
    "writer1_link = soup.find('a', href=lambda href: href and href.startswith('/profile'))['href']\n",
    "writer_link = 'https://www.iranketab.ir' + writer1_link\n",
    "writer_link"
   ]
  },
  {
   "cell_type": "code",
   "execution_count": 11,
   "metadata": {},
   "outputs": [
    {
     "name": "stdout",
     "output_type": "stream",
     "text": [
      "i\n",
      "i\n"
     ]
    }
   ],
   "source": [
    "for i in range(length):\n",
    "    print(\"i\")"
   ]
  },
  {
   "cell_type": "code",
   "execution_count": null,
   "metadata": {},
   "outputs": [],
   "source": []
  }
 ],
 "metadata": {
  "kernelspec": {
   "display_name": "quera",
   "language": "python",
   "name": "python3"
  },
  "language_info": {
   "codemirror_mode": {
    "name": "ipython",
    "version": 3
   },
   "file_extension": ".py",
   "mimetype": "text/x-python",
   "name": "python",
   "nbconvert_exporter": "python",
   "pygments_lexer": "ipython3",
   "version": "3.9.17"
  },
  "orig_nbformat": 4
 },
 "nbformat": 4,
 "nbformat_minor": 2
}
