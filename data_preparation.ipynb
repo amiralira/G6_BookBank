{
 "cells": [
  {
   "cell_type": "code",
   "execution_count": null,
   "metadata": {},
   "outputs": [],
   "source": [
    "import numpy as np\n",
    "import pandas as pd\n",
    "import json\n",
    "import ast\n",
    "import urllib.parse"
   ]
  },
  {
   "cell_type": "code",
   "execution_count": null,
   "metadata": {},
   "outputs": [],
   "source": [
    "# final_df[249:255]\n",
    "# final_df[\"کد کتاب :\"].describe()\n",
    "# final_df\n",
    "\n",
    "# err_df\n",
    "# final_df\n",
    "\n",
    "# urls.tail(10)\n",
    "# ttemp = final_df[final_df[\"name\"] == \"کتاب هاروکی موراکامی به دیدار هایائو کاوای می رود\"]\n",
    "# ttemp[\"url\"]\n",
    "\n",
    "\n",
    "# ttemp = final_df[final_df[\"کارگردان:\"] == \"بهروز غریب پور\"]\n",
    "# ttemp[\"url\"]\n",
    "\n",
    "# final_df[\"گوینده:\"].describe()\n",
    "# final_df[\"نوازنده:\"].describe()\n",
    "# final_df[\"آهنگساز:\"].describe()\n",
    "# final_df[\"سخنران:\"].describe()\n",
    "# final_df[\"طراح:\"].describe()\n",
    "# final_df[\"ناشر اصلی:\"].describe()\n",
    "# final_df[\"کارگردان:\"].describe()\n",
    "\n",
    "# print(final_df[\"description\"][476])\n",
    "# final_df[\"url\"][476]\n",
    "# final_df.iloc[17]\n",
    "# final_df[\"translator\"][195]\n",
    "# final_df[\"کد محصول :\"].describe()\n",
    "# final_df[\"کد کتاب :\"].describe()\n",
    "\n",
    "# final_df.to_csv(\"barresi.csv\", index=False, encoding=\"utf-8-sig\")"
   ]
  },
  {
   "cell_type": "code",
   "execution_count": null,
   "metadata": {},
   "outputs": [],
   "source": [
    "df_p0 = pd.read_csv(\"all_product_details(p0).csv\", low_memory=False)\n",
    "df_p1 = pd.read_csv(\"all_product_details(p1).csv\", low_memory=False)\n",
    "df_p2 = pd.read_csv(\"all_product_details(p2).csv\", low_memory=False)\n",
    "df_p3 = pd.read_csv(\"all_product_details(p3).csv\", low_memory=False)\n",
    "df_p4 = pd.read_csv(\"all_product_details(p4).csv\", low_memory=False)\n",
    "df_p5 = pd.read_csv(\"all_product_details(p5).csv\", low_memory=False)\n",
    "df_p6 = pd.read_csv(\"all_product_details(p6).csv\", low_memory=False)\n",
    "df_p7 = pd.read_csv(\"all_product_details(p7).csv\", low_memory=False)\n",
    "df_p8 = pd.read_csv(\"all_product_details(p8).csv\", low_memory=False)\n",
    "df_p9 = pd.read_csv(\"all_product_details(p9).csv\", low_memory=False)\n",
    "df_err = pd.read_csv(\"all_product_details(err).csv\", low_memory=False)"
   ]
  },
  {
   "cell_type": "code",
   "execution_count": null,
   "metadata": {},
   "outputs": [],
   "source": [
    "res = (\n",
    "    len(df_p0)\n",
    "    + len(df_p1)\n",
    "    + len(df_p2)\n",
    "    + len(df_p3)\n",
    "    + len(df_p4)\n",
    "    + len(df_p5)\n",
    "    + len(df_p6)\n",
    "    + len(df_p7)\n",
    "    + len(df_p8)\n",
    "    + len(df_p9)\n",
    "    + len(df_err)\n",
    ")\n",
    "res"
   ]
  },
  {
   "cell_type": "code",
   "execution_count": null,
   "metadata": {},
   "outputs": [],
   "source": [
    "df = pd.concat(\n",
    "    [\n",
    "        df_p0,\n",
    "        df_p1,\n",
    "        df_p2,\n",
    "        df_p3,\n",
    "        df_p4,\n",
    "        df_p5,\n",
    "        df_p6,\n",
    "        df_p7,\n",
    "        df_p8,\n",
    "        df_p9,\n",
    "        df_err,\n",
    "    ],\n",
    "    ignore_index=True,\n",
    ")"
   ]
  },
  {
   "cell_type": "code",
   "execution_count": null,
   "metadata": {},
   "outputs": [],
   "source": [
    "df.columns"
   ]
  },
  {
   "cell_type": "code",
   "execution_count": null,
   "metadata": {},
   "outputs": [],
   "source": [
    "df_product = df.dropna(subset=[\"کد محصول :\"])\n",
    "df_product = df_product.drop_duplicates(subset='کد محصول :', keep='first')\n",
    "df_product = df_product.dropna(axis=1, how='all')"
   ]
  },
  {
   "cell_type": "code",
   "execution_count": null,
   "metadata": {},
   "outputs": [],
   "source": [
    "# df_book = df.dropna(subset=[\"کد کتاب :\"])\n",
    "\n",
    "\n",
    "\n",
    "# df_product[\"name\"] = df_product[\"name\"].astype(str)\n",
    "\n",
    "# df_product\n",
    "# ttemp = df_product[df_product[\"name\"].str.split(',')]\n",
    "type(df_product[\"name\"][0])\n",
    "# ttemp"
   ]
  },
  {
   "cell_type": "code",
   "execution_count": null,
   "metadata": {},
   "outputs": [],
   "source": [
    "df_book[\"کد کتاب :\"] = df_book[\"کد کتاب :\"].astype(int)\n",
    "\n",
    "# value_counts = df_book[\"کد کتاب :\"].value_counts()\n",
    "# value_counts\n",
    "\n",
    "# duplicate_values = df_book[df_book.duplicated(subset='کد کتاب :', keep=False)]\n",
    "# new_df = df_book[df_book['کد کتاب :'].isin(duplicate_values['کد کتاب :'])]\n",
    "# new_df\n",
    "\n",
    "df_book = df_book.drop_duplicates(subset=\"کد کتاب :\", keep=\"first\")\n",
    "df_book = df_book.dropna(axis=1, how=\"all\")"
   ]
  },
  {
   "cell_type": "code",
   "execution_count": null,
   "metadata": {},
   "outputs": [],
   "source": [
    "# df_book\n",
    "df_book.columns"
   ]
  },
  {
   "cell_type": "code",
   "execution_count": null,
   "metadata": {},
   "outputs": [],
   "source": [
    "sdfgsdf = df_book.dropna(subset=[\"تصویرگر:\"])\n",
    "print(sdfgsdf[\"کد کتاب :\"].is_unique)\n",
    "sdfgsdf = sdfgsdf.dropna(axis=1, how=\"all\")\n",
    "\n",
    "# duplicate_rows = df_book[df_book.duplicated(keep=False) & df_book.apply(lambda row: row.duplicated().all(), axis=1)]\n",
    "# new_df = duplicate_rows.copy()\n",
    "\n",
    "#\n",
    "# sdfgsdf.iloc[0]\n",
    "\n",
    "sdfgsdf['translator'] = sdfgsdf['translator'].apply(lambda x: ast.literal_eval(x))\n",
    "sdfgsdf"
   ]
  },
  {
   "cell_type": "code",
   "execution_count": null,
   "metadata": {},
   "outputs": [],
   "source": [
    "sdfgsdf[\"translator\"][2022]"
   ]
  },
  {
   "cell_type": "code",
   "execution_count": null,
   "metadata": {},
   "outputs": [],
   "source": [
    "sdfgsdf[\"تصویرگر:\"][2022]"
   ]
  },
  {
   "cell_type": "code",
   "execution_count": null,
   "metadata": {},
   "outputs": [],
   "source": [
    "sdfgsdf[\"مترجم:\"][2022]"
   ]
  },
  {
   "cell_type": "code",
   "execution_count": null,
   "metadata": {},
   "outputs": [],
   "source": [
    "sdfgsdf.head(5)"
   ]
  },
  {
   "cell_type": "code",
   "execution_count": null,
   "metadata": {},
   "outputs": [],
   "source": [
    "sdfgsdf.dtypes"
   ]
  },
  {
   "cell_type": "code",
   "execution_count": null,
   "metadata": {},
   "outputs": [],
   "source": [
    "my_columns = sdfgsdf.columns\n",
    "i = 0\n",
    "for my_column in my_columns:\n",
    "    print(i, my_column)\n",
    "    i += 1"
   ]
  },
  {
   "cell_type": "code",
   "execution_count": null,
   "metadata": {},
   "outputs": [],
   "source": [
    "sdfgsdf[\"مترجم:\"][113052]"
   ]
  },
  {
   "cell_type": "code",
   "execution_count": null,
   "metadata": {},
   "outputs": [],
   "source": [
    "sdfgsdf[[\"url\", \"translator\", \"publisher\", \"author\", \"مترجم:\", \"گوینده:\"]]"
   ]
  },
  {
   "cell_type": "code",
   "execution_count": null,
   "metadata": {},
   "outputs": [],
   "source": [
    "\n",
    "roles = [my_columns[22], my_columns[25], my_columns[26]]\n",
    "\n",
    "\n",
    "def update_column(row, column_start, column_end=-1):\n",
    "    if not pd.isna(row[column_start]) and row[\"translator\"] != []:\n",
    "        unique_items = {}\n",
    "        for item in row[\"translator\"]:\n",
    "            unique_items[item['id']] = item\n",
    "        unique_items = list(unique_items.values())\n",
    "        my_list = []\n",
    "        sw = False\n",
    "        for item in unique_items:\n",
    "            if item[\"name\"] in row[column_start]:\n",
    "                sw = True\n",
    "            elif column_end != -1 and item[\"name\"] in row[column_end]:\n",
    "                break\n",
    "            if sw == True:\n",
    "                my_list.append(item)\n",
    "        return my_list\n",
    "    return row[column_start]\n",
    "\n",
    "\n",
    "for i in range(len(roles)):\n",
    "    if i >= len(roles) - 1:\n",
    "        sdfgsdf[roles[i]] = sdfgsdf.apply(\n",
    "            lambda row: update_column(row, roles[i], -1), axis=1\n",
    "        )\n",
    "    else:\n",
    "        sdfgsdf[roles[i]] = sdfgsdf.apply(\n",
    "            lambda row: update_column(row, roles[i], roles[i + 1]), axis=1\n",
    "        )"
   ]
  },
  {
   "cell_type": "code",
   "execution_count": null,
   "metadata": {},
   "outputs": [],
   "source": [
    "# sdfgsdf[\"مترجم:\"][107140]\n",
    "sdfgsdf[\"گوینده:\"][108959]"
   ]
  },
  {
   "cell_type": "code",
   "execution_count": null,
   "metadata": {},
   "outputs": [],
   "source": [
    "sdfgsdf[[\"translator\", \"publisher\", \"author\", \"مترجم:\", \"گوینده:\"]]"
   ]
  },
  {
   "cell_type": "code",
   "execution_count": null,
   "metadata": {},
   "outputs": [],
   "source": [
    "# ساخت دیتافریم نمونه\n",
    "data = {\n",
    "    \"مترجم\": np.nan,\n",
    "    \"ویراستار\": \"مریم تقدیسی\",\n",
    "    \"گوینده\": \"علی تقدیسی\",\n",
    "    \"persons\": [\n",
    "        [\n",
    "            {\n",
    "                \"id\": \"2968\",\n",
    "                \"name\": \"مریم تقدیسی\",\n",
    "                \"url\": \"https://www.iranketab.ir/profile/2968-\",\n",
    "            },\n",
    "            {\n",
    "                \"id\": \"565\",\n",
    "                \"name\": \"رضا تقدیسی\",\n",
    "                \"url\": \"https://www.iranketab.ir/profile/565-\",\n",
    "            },\n",
    "            {\n",
    "                \"id\": \"4562\",\n",
    "                \"name\": \"علی تقدیسی\",\n",
    "                \"url\": \"https://www.iranketab.ir/profile/4562-\",\n",
    "            },\n",
    "            {\n",
    "                \"id\": \"5945\",\n",
    "                \"name\": \"صحراب تقدیسی\",\n",
    "                \"url\": \"https://www.iranketab.ir/profile/5945-\",\n",
    "            },\n",
    "        ]\n",
    "    ],\n",
    "}\n",
    "\n",
    "dfdfgsd = pd.DataFrame(data)\n",
    "\n",
    "lists = dfdfgsd[\"persons\"][0]\n",
    "# for ii in lists:\n",
    "#     print(ii[\"name\"])\n",
    "\n",
    "\n",
    "def update_column(row, column_start, column_end=-1):\n",
    "    if not pd.isna(row[column_start]):\n",
    "        my_list = []\n",
    "        sw = False\n",
    "        for person in row[\"persons\"]:\n",
    "            if row[column_start] == person[\"name\"]:\n",
    "                sw = True\n",
    "            elif column_end != -1 and row[column_end] == person[\"name\"]:\n",
    "                break\n",
    "            if sw == True:\n",
    "                my_list.append(person)\n",
    "        return my_list\n",
    "    return row[column_start]\n",
    "\n",
    "\n",
    "dfdfgsd[\"مترجم\"] = dfdfgsd.apply(\n",
    "    lambda row: update_column(row, \"مترجم\", \"ویراستار\"), axis=1\n",
    ")\n",
    "dfdfgsd[\"ویراستار\"] = dfdfgsd.apply(\n",
    "    lambda row: update_column(row, \"ویراستار\", \"گوینده\"), axis=1\n",
    ")\n",
    "dfdfgsd[\"گوینده\"] = dfdfgsd.apply(lambda row: update_column(row, \"گوینده\"), axis=1)\n",
    "\n",
    "\n",
    "# dfdfgsd[\"گوینده\"][0]\n",
    "dfdfgsd[\"ویراستار\"][0]\n",
    "dfdfgsd"
   ]
  }
 ],
 "metadata": {
  "kernelspec": {
   "display_name": "venv",
   "language": "python",
   "name": "python3"
  },
  "language_info": {
   "codemirror_mode": {
    "name": "ipython",
    "version": 3
   },
   "file_extension": ".py",
   "mimetype": "text/x-python",
   "name": "python",
   "nbconvert_exporter": "python",
   "pygments_lexer": "ipython3",
   "version": "3.9.0"
  },
  "orig_nbformat": 4
 },
 "nbformat": 4,
 "nbformat_minor": 2
}
